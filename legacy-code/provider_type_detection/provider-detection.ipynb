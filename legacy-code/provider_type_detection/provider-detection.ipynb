{
 "cells": [
  {
   "cell_type": "markdown",
   "metadata": {},
   "source": [
    "## *CONFIDENTIEL* ##\n",
    "\n",
    "![Logo Inokufu](http://www.inokufu.com/wp-content/uploads/elementor/thumbs/logo_inokufu_vector_full-black-om2hmu9ob1jytetxemkj1ij8g7tt3hzrtssivh2fl2.png)\n",
    "\n",
    "\n",
    "\n",
    "# WranglerAgent: LOProvider and LOtypes from URL #"
   ]
  },
  {
   "cell_type": "markdown",
   "metadata": {},
   "source": [
    "## Introduction\n",
    "\n",
    "In this notebook, the objective is to fill the missing LOprovider and LOtype based on the URL1 of the LO."
   ]
  },
  {
   "cell_type": "markdown",
   "metadata": {},
   "source": [
    "### Table of Contents\n",
    "\n",
    "\n",
    "1. Data Import\n",
    "2. Data Preparation\n",
    "3. Data Export"
   ]
  },
  {
   "cell_type": "markdown",
   "metadata": {},
   "source": [
    "First let's download all the libraries required for this notebook."
   ]
  },
  {
   "cell_type": "code",
   "execution_count": null,
   "metadata": {},
   "outputs": [],
   "source": [
    "!pip install pandas"
   ]
  },
  {
   "cell_type": "code",
   "execution_count": null,
   "metadata": {},
   "outputs": [],
   "source": [
    "import pandas as pd\n",
    "pd.set_option('display.max_columns', None)\n",
    "pd.set_option('display.max_rows', None)\n",
    "pd.set_option('display.max_colwidth', 250) \n",
    "\n",
    "import time \n",
    "\n",
    "beginAll = time.time()\n",
    "\n",
    "print('Libraries imported.')"
   ]
  },
  {
   "cell_type": "markdown",
   "metadata": {},
   "source": [
    "## 1. Data Import"
   ]
  },
  {
   "cell_type": "markdown",
   "metadata": {},
   "source": [
    "#### Enter the path of the data source files used in this notebook"
   ]
  },
  {
   "cell_type": "code",
   "execution_count": null,
   "metadata": {},
   "outputs": [],
   "source": [
    "LO_data = \"tempLOfile.gzip\"\n",
    "LOProviders = \"LOProviders.gzip\"\n",
    "save_prefix = \"updated_\""
   ]
  },
  {
   "cell_type": "markdown",
   "metadata": {},
   "source": [
    "#### Import raw data from parquet file"
   ]
  },
  {
   "cell_type": "markdown",
   "metadata": {},
   "source": [
    "Read LO data source file in parquet format"
   ]
  },
  {
   "cell_type": "code",
   "execution_count": null,
   "metadata": {},
   "outputs": [],
   "source": [
    "df = pd.read_parquet(LO_data)\n",
    "df.head(5)"
   ]
  },
  {
   "cell_type": "markdown",
   "metadata": {},
   "source": [
    "Read LO Provider source file in parquet format"
   ]
  },
  {
   "cell_type": "code",
   "execution_count": null,
   "metadata": {},
   "outputs": [],
   "source": [
    "df_prov = pd.read_parquet(LOProviders)\n",
    "df_prov.head(5)"
   ]
  },
  {
   "cell_type": "markdown",
   "metadata": {},
   "source": [
    "## 2. Data Preparation"
   ]
  },
  {
   "cell_type": "markdown",
   "metadata": {},
   "source": [
    "#### Check LOProvider empty and import the defaultLOtype based on its URL"
   ]
  },
  {
   "cell_type": "code",
   "execution_count": null,
   "metadata": {},
   "outputs": [],
   "source": [
    "df = df.loc[df.title.notna() & df.URL.notna()]"
   ]
  },
  {
   "cell_type": "code",
   "execution_count": null,
   "metadata": {},
   "outputs": [],
   "source": [
    "provider_values = df_prov[[\"URL\", \"Name\", \"DefaultLOType\"]].values"
   ]
  },
  {
   "cell_type": "code",
   "execution_count": null,
   "metadata": {},
   "outputs": [],
   "source": [
    "def fill_provider(row):\n",
    "    for provider in provider_values:\n",
    "        if pd.notna(provider[0]) and str(provider[0]) in row[\"URL\"]:\n",
    "            row['LOProvider'] = str(provider[1])\n",
    "            row['LOType'] = [str(provider[2])]\n",
    "            break\n",
    "    return row\n",
    "\n",
    "begin = time.time()\n",
    "\n",
    "df.loc[\n",
    "    df[\"LOProvider\"].isna(), [\"LOProvider\", \"LOType\"]\n",
    "] = df.loc[\n",
    "    df[\"LOProvider\"].isna(), [\"URL\", \"LOProvider\", \"LOType\"]\n",
    "].apply(fill_provider, axis=1)\n",
    "\n",
    "end = time.time()\n",
    "\n",
    "t = round(end-begin,2)\n",
    "\n",
    "print('Operation 1/1 : Loading... 100.0% - processed in '+str(t)+' s (' + str(round(t/60, 2)) + ' min)', end=\"\\n\")"
   ]
  },
  {
   "cell_type": "code",
   "execution_count": null,
   "metadata": {},
   "outputs": [],
   "source": [
    "df.head(5)"
   ]
  },
  {
   "cell_type": "markdown",
   "metadata": {},
   "source": [
    "## 3. Data Export"
   ]
  },
  {
   "cell_type": "markdown",
   "metadata": {},
   "source": [
    "#### Export df into a parquet file"
   ]
  },
  {
   "cell_type": "code",
   "execution_count": null,
   "metadata": {},
   "outputs": [],
   "source": [
    "df.to_parquet(save_prefix + LO_data, compression='gzip')"
   ]
  },
  {
   "cell_type": "markdown",
   "metadata": {},
   "source": [
    "\n",
    "Authors: [Matt Sonnati](https://www.linkedin.com/in/matthieusonnati), [Guillaume Lefebvre](https://www.linkedin.com/in/guillaume-lefebvre-22117610b), [Aurélien Bresson](https://www.linkedin.com/in/aurélien-bresson-568342195/) - For more information, contact us at contact@inokufu.com - Copyright &copy; 2023 [Inokufu](http://www.inokufu.com)\n",
    "\n",
    "![Logo Inokufu](http://www.inokufu.com/wp-content/uploads/elementor/thumbs/logo_inokufu_vector_full-black-om2hmu9ob1jytetxemkj1ij8g7tt3hzrtssivh2fl2.png)\n",
    "\n",
    "## *CONFIDENTIEL* ##\n"
   ]
  },
  {
   "cell_type": "code",
   "execution_count": null,
   "metadata": {},
   "outputs": [],
   "source": [
    "endAll = time.time()\n",
    "\n",
    "ts = round(endAll-beginAll,2)\n",
    "\n",
    "print('Loading... 100.0% - processed in '+str(ts)+' s ('+str(round(ts/60, 2))+' min)', end=\"\\r\")"
   ]
  }
 ],
 "metadata": {
  "kernelspec": {
   "display_name": "Python 3",
   "language": "python",
   "name": "python3"
  },
  "language_info": {
   "codemirror_mode": {
    "name": "ipython",
    "version": 3
   },
   "file_extension": ".py",
   "mimetype": "text/x-python",
   "name": "python",
   "nbconvert_exporter": "python",
   "pygments_lexer": "ipython3",
   "version": "3.9.6"
  },
  "toc": {
   "base_numbering": 1,
   "nav_menu": {},
   "number_sections": true,
   "sideBar": true,
   "skip_h1_title": false,
   "title_cell": "Table of Contents",
   "title_sidebar": "Contents",
   "toc_cell": false,
   "toc_position": {},
   "toc_section_display": true,
   "toc_window_display": false
  }
 },
 "nbformat": 4,
 "nbformat_minor": 4
}
